{
 "cells": [
  {
   "attachments": {},
   "cell_type": "markdown",
   "metadata": {},
   "source": [
    "istalamos las  librerías de pandas y numpy"
   ]
  },
  {
   "cell_type": "code",
   "execution_count": 2,
   "metadata": {},
   "outputs": [],
   "source": [
    "import pandas as pd\n",
    "import numpy as np"
   ]
  },
  {
   "attachments": {},
   "cell_type": "markdown",
   "metadata": {},
   "source": [
    "Asignamos los glory que es donde vemos el  data sets"
   ]
  },
  {
   "cell_type": "code",
   "execution_count": 3,
   "metadata": {},
   "outputs": [],
   "source": [
    "csv_vino_rojo = \"./Wine/winequality-red.csv\"\n",
    "csv_vino_blanco = \"./Wine/winequality-white.csv\""
   ]
  },
  {
   "attachments": {},
   "cell_type": "markdown",
   "metadata": {},
   "source": [
    "Asignamos a la header  las variables los titulos de las columnas"
   ]
  },
  {
   "cell_type": "code",
   "execution_count": 8,
   "metadata": {},
   "outputs": [],
   "source": [
    "titulos = [\"fixed acidity\",\"volatile acidity\",\"citric acid\",\"residual sugar\",\"chlorides\",\"free sulfur dioxide\",\"total sulfur dioxide\",\"density\",\"pH\",\"sulphates\",\"alcohol\",\"quality\"]"
   ]
  },
  {
   "attachments": {},
   "cell_type": "markdown",
   "metadata": {},
   "source": [
    "colocamos  los separadores de nuestro archivo csv "
   ]
  },
  {
   "cell_type": "code",
   "execution_count": 14,
   "metadata": {},
   "outputs": [
    {
     "ename": "NameError",
     "evalue": "name 'csv_vino_rojo' is not defined",
     "output_type": "error",
     "traceback": [
      "\u001b[1;31m---------------------------------------------------------------------------\u001b[0m",
      "\u001b[1;31mNameError\u001b[0m                                 Traceback (most recent call last)",
      "Cell \u001b[1;32mIn[14], line 1\u001b[0m\n\u001b[1;32m----> 1\u001b[0m data_frame_rojo \u001b[39m=\u001b[39m pd\u001b[39m.\u001b[39mread_csv(csv_vino_rojo, sep\u001b[39m=\u001b[39m\u001b[39m\"\u001b[39m\u001b[39m;\u001b[39m\u001b[39m\"\u001b[39m, names\u001b[39m=\u001b[39m titulos)\n\u001b[0;32m      2\u001b[0m data_frame_blanco \u001b[39m=\u001b[39m pd\u001b[39m.\u001b[39mread_csv(csv_vino_blanco, sep\u001b[39m=\u001b[39m\u001b[39m\"\u001b[39m\u001b[39m;\u001b[39m\u001b[39m\"\u001b[39m, names\u001b[39m=\u001b[39m titulos)\n",
      "\u001b[1;31mNameError\u001b[0m: name 'csv_vino_rojo' is not defined"
     ]
    }
   ],
   "source": [
    "data_frame_rojo = pd.read_csv(csv_vino_rojo, sep=\";\", names= titulos)\n",
    "data_frame_blanco = pd.read_csv(csv_vino_blanco, sep=\";\", names= titulos)"
   ]
  },
  {
   "attachments": {},
   "cell_type": "markdown",
   "metadata": {},
   "source": [
    "cambiamos  las  preguntas por el valor de Nan de numpy solo si son existentes "
   ]
  },
  {
   "cell_type": "code",
   "execution_count": 10,
   "metadata": {},
   "outputs": [
    {
     "ename": "NameError",
     "evalue": "name 'data_frame_rojo' is not defined",
     "output_type": "error",
     "traceback": [
      "\u001b[1;31m---------------------------------------------------------------------------\u001b[0m",
      "\u001b[1;31mNameError\u001b[0m                                 Traceback (most recent call last)",
      "Cell \u001b[1;32mIn[10], line 1\u001b[0m\n\u001b[1;32m----> 1\u001b[0m data_frame_rojo\u001b[39m.\u001b[39mreplace(\u001b[39m\"\u001b[39m\u001b[39m?\u001b[39m\u001b[39m\"\u001b[39m, np\u001b[39m.\u001b[39mnan, inplace \u001b[39m=\u001b[39m \u001b[39mTrue\u001b[39;00m)\n\u001b[0;32m      2\u001b[0m data_frame_blanco\u001b[39m.\u001b[39mreplace(\u001b[39m\"\u001b[39m\u001b[39m?\u001b[39m\u001b[39m\"\u001b[39m, np\u001b[39m.\u001b[39mnan, inplace \u001b[39m=\u001b[39m \u001b[39mTrue\u001b[39;00m)\n",
      "\u001b[1;31mNameError\u001b[0m: name 'data_frame_rojo' is not defined"
     ]
    }
   ],
   "source": [
    "data_frame_rojo.replace(\"?\", np.nan, inplace = True)\n",
    "data_frame_blanco.replace(\"?\", np.nan, inplace = True)"
   ]
  },
  {
   "attachments": {},
   "cell_type": "markdown",
   "metadata": {},
   "source": [
    "guardamos  los valores nulos  en 2 variables del vino rojo y vino blanco "
   ]
  },
  {
   "cell_type": "code",
   "execution_count": 11,
   "metadata": {},
   "outputs": [
    {
     "ename": "NameError",
     "evalue": "name 'data_frame_rojo' is not defined",
     "output_type": "error",
     "traceback": [
      "\u001b[1;31m---------------------------------------------------------------------------\u001b[0m",
      "\u001b[1;31mNameError\u001b[0m                                 Traceback (most recent call last)",
      "Cell \u001b[1;32mIn[11], line 1\u001b[0m\n\u001b[1;32m----> 1\u001b[0m missing_data_1 \u001b[39m=\u001b[39m data_frame_rojo\u001b[39m.\u001b[39misnull()\n\u001b[0;32m      2\u001b[0m missing_data_2 \u001b[39m=\u001b[39m data_frame_blanco\u001b[39m.\u001b[39misnull()\n",
      "\u001b[1;31mNameError\u001b[0m: name 'data_frame_rojo' is not defined"
     ]
    }
   ],
   "source": [
    "missing_data_1 = data_frame_rojo.isnull()\n",
    "missing_data_2 = data_frame_blanco.isnull()"
   ]
  },
  {
   "attachments": {},
   "cell_type": "markdown",
   "metadata": {},
   "source": [
    "hacemos un analis de estos  valores que faltan en nuestros data set"
   ]
  },
  {
   "cell_type": "code",
   "execution_count": null,
   "metadata": {},
   "outputs": [],
   "source": [
    "for column in missing_data_2.columns.values.tolist():\n",
    "    print(column)\n",
    "    print (missing_data_2[column].value_counts())\n",
    "    print(\"\")  \n",
    "for column in missing_data_1.columns.values.tolist():\n",
    "    print(column)\n",
    "    print (missing_data_1[column].value_counts())\n",
    "    print(\"\")    "
   ]
  },
  {
   "cell_type": "code",
   "execution_count": null,
   "metadata": {},
   "outputs": [],
   "source": [
    "for column in missing_data_1.columns.values.tolist():\n",
    "    print(column)\n",
    "    print (missing_data_1[column].value_counts())\n",
    "    print(\"\")    "
   ]
  },
  {
   "attachments": {},
   "cell_type": "markdown",
   "metadata": {},
   "source": [
    " creamos  variables de la investigacion para la columna "
   ]
  },
  {
   "cell_type": "code",
   "execution_count": null,
   "metadata": {},
   "outputs": [],
   "source": [
    "bins_1 = np.linspace(min(data_frame_rojo[\"quality\"]), max(data_frame_rojo[\"quality\"]), 4)\n",
    "bins_1"
   ]
  },
  {
   "cell_type": "code",
   "execution_count": null,
   "metadata": {},
   "outputs": [],
   "source": [
    "bins_2 = np.linspace(min(data_frame_blanco[\"quality\"]), max(data_frame_blanco[\"quality\"]), 4)\n",
    "bins_2"
   ]
  },
  {
   "attachments": {},
   "cell_type": "markdown",
   "metadata": {},
   "source": [
    "ponemos los nombre de los grupos "
   ]
  },
  {
   "cell_type": "code",
   "execution_count": null,
   "metadata": {},
   "outputs": [],
   "source": [
    "group_names = ['baja_calidad', 'media_calidad', 'alta_calidad']"
   ]
  },
  {
   "cell_type": "code",
   "execution_count": null,
   "metadata": {},
   "outputs": [],
   "source": [
    "data_frame_rojo['quality-binned'] = pd.cut(data_frame_rojo['quality'], bins_1, labels=group_names, include_lowest=True )\n",
    "data_frame_rojo[['quality','quality-binned']].head(20)"
   ]
  },
  {
   "cell_type": "code",
   "execution_count": null,
   "metadata": {},
   "outputs": [],
   "source": [
    "data_frame_blanco['quality-binned'] = pd.cut(data_frame_blanco['quality'], bins_2, labels=group_names, include_lowest=True )\n",
    "data_frame_blanco[['quality','quality-binned']].head(20)"
   ]
  },
  {
   "cell_type": "code",
   "execution_count": null,
   "metadata": {},
   "outputs": [],
   "source": [
    "data_frame_rojo.head()"
   ]
  },
  {
   "attachments": {},
   "cell_type": "markdown",
   "metadata": {},
   "source": [
    "descargamos  las librerias matplotlib y seaborn"
   ]
  },
  {
   "cell_type": "code",
   "execution_count": null,
   "metadata": {},
   "outputs": [],
   "source": [
    "import matplotlib.pyplot as plt\n",
    "import seaborn as sns"
   ]
  },
  {
   "attachments": {},
   "cell_type": "markdown",
   "metadata": {},
   "source": [
    "podemos tener un analisis de  como comparar  la calidad con la cantidad de pH en los vinos"
   ]
  },
  {
   "attachments": {},
   "cell_type": "markdown",
   "metadata": {},
   "source": [
    "para el vino rojo"
   ]
  },
  {
   "cell_type": "code",
   "execution_count": null,
   "metadata": {},
   "outputs": [],
   "source": [
    "sns.boxplot(x=\"quality\", y=\"pH\", data=data_frame_rojo)"
   ]
  },
  {
   "cell_type": "code",
   "execution_count": null,
   "metadata": {},
   "outputs": [],
   "source": [
    "data_frame_rojo[[\"quality\",\"pH\"]].corr()"
   ]
  },
  {
   "attachments": {},
   "cell_type": "markdown",
   "metadata": {},
   "source": [
    "\n",
    " el pH mas acertado  para  calidades de lo vinos es "
   ]
  },
  {
   "cell_type": "code",
   "execution_count": null,
   "metadata": {},
   "outputs": [],
   "source": [
    "data_frame_rojo['quality-binned'].value_counts()\n",
    "df_gp1 = data_frame_rojo[['quality-binned','pH']]\n",
    "grouped_quality1 = df_gp1.groupby(['quality-binned'],as_index= False).mean()\n",
    "grouped_quality1"
   ]
  },
  {
   "attachments": {},
   "cell_type": "markdown",
   "metadata": {},
   "source": [
    "anilisamos las buenas caracteristicas que destacan a los  vinos en los data sets"
   ]
  },
  {
   "cell_type": "code",
   "execution_count": null,
   "metadata": {},
   "outputs": [],
   "source": [
    "data_frame_rojo['quality-binned'].value_counts()"
   ]
  },
  {
   "attachments": {},
   "cell_type": "markdown",
   "metadata": {},
   "source": [
    " el vino rojo  observarvamos   el ph mas acertado  es muy igual  "
   ]
  },
  {
   "cell_type": "code",
   "execution_count": null,
   "metadata": {},
   "outputs": [],
   "source": [
    "df_gp2 = data_frame_blanco[['quality-binned','pH']]\n",
    "grouped_quality2 = df_gp2.groupby(['quality-binned'],as_index= False).mean()\n",
    "grouped_quality2"
   ]
  },
  {
   "attachments": {},
   "cell_type": "markdown",
   "metadata": {},
   "source": [
    "pero en el vino blanco se ve que es todo lo opuesto a el vino rojo "
   ]
  },
  {
   "cell_type": "code",
   "execution_count": null,
   "metadata": {},
   "outputs": [],
   "source": [
    "from scipy import stats"
   ]
  },
  {
   "cell_type": "code",
   "execution_count": null,
   "metadata": {},
   "outputs": [],
   "source": [
    "pearson_coef1, p_value1 = stats.pearsonr(data_frame_rojo['fixed acidity'], data_frame_rojo['citric acid'])\n",
    "print(\"The Pearson Correlation Coefficient is\", pearson_coef1, \" with a P-value of P =\", p_value1)  "
   ]
  }
 ],
 "metadata": {
  "kernelspec": {
   "display_name": "Python 3",
   "language": "python",
   "name": "python3"
  },
  "language_info": {
   "codemirror_mode": {
    "name": "ipython",
    "version": 3
   },
   "file_extension": ".py",
   "mimetype": "text/x-python",
   "name": "python",
   "nbconvert_exporter": "python",
   "pygments_lexer": "ipython3",
   "version": "3.10.10"
  },
  "orig_nbformat": 4
 },
 "nbformat": 4,
 "nbformat_minor": 2
}
